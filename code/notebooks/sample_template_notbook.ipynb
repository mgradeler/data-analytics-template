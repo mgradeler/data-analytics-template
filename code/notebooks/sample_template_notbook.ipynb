{
 "cells": [
  {
   "cell_type": "markdown",
   "id": "cb5d7bc5-b7c9-40e6-9df5-400a3131a909",
   "metadata": {},
   "source": [
    "# Project Name"
   ]
  },
  {
   "cell_type": "markdown",
   "id": "82e7ddf9-5d36-4a37-a475-4c864e68a0d2",
   "metadata": {},
   "source": [
    "**Author:** Melanie Gradeler\n",
    "**Last sodified:** 11-13-2024 (created: 11-13-2024)\n",
    "**Description:** Short paragraph about this project"
   ]
  },
  {
   "cell_type": "markdown",
   "id": "740e058d-1622-4d30-b857-9c8939bd88b9",
   "metadata": {},
   "source": [
    "<br>"
   ]
  },
  {
   "cell_type": "markdown",
   "id": "c0db7a59-a98b-4970-9bbb-d715913aba8c",
   "metadata": {},
   "source": [
    "Import Libraries:"
   ]
  },
  {
   "cell_type": "code",
   "execution_count": 1,
   "id": "d5433e4d-303d-4ed6-a124-7922b61200eb",
   "metadata": {},
   "outputs": [],
   "source": [
    "import pandas as pd"
   ]
  },
  {
   "cell_type": "markdown",
   "id": "ad1f8b77-d753-42a5-9a9a-75c757a374c5",
   "metadata": {},
   "source": [
    "Load data:"
   ]
  },
  {
   "cell_type": "code",
   "execution_count": 2,
   "id": "2edf194d-c946-4fdd-9c83-b82a4fde349c",
   "metadata": {},
   "outputs": [],
   "source": [
    "#code to read csv file"
   ]
  },
  {
   "cell_type": "code",
   "execution_count": null,
   "id": "082d2cb7-a734-4d49-9c8e-6035ffcf27ab",
   "metadata": {},
   "outputs": [],
   "source": []
  }
 ],
 "metadata": {
  "kernelspec": {
   "display_name": "Python 3 (ipykernel)",
   "language": "python",
   "name": "python3"
  },
  "language_info": {
   "codemirror_mode": {
    "name": "ipython",
    "version": 3
   },
   "file_extension": ".py",
   "mimetype": "text/x-python",
   "name": "python",
   "nbconvert_exporter": "python",
   "pygments_lexer": "ipython3",
   "version": "3.12.2"
  }
 },
 "nbformat": 4,
 "nbformat_minor": 5
}
